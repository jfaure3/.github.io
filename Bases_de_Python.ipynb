{
  "nbformat": 4,
  "nbformat_minor": 0,
  "metadata": {
    "colab": {
      "name": "Bases de Python.ipynb",
      "version": "0.3.2",
      "provenance": [],
      "private_outputs": true,
      "include_colab_link": true
    },
    "language_info": {
      "codemirror_mode": {
        "name": "ipython",
        "version": 3
      },
      "file_extension": ".py",
      "mimetype": "text/x-python",
      "name": "python",
      "nbconvert_exporter": "python",
      "pygments_lexer": "ipython3",
      "version": "3.7.3"
    },
    "kernelspec": {
      "name": "python3",
      "display_name": "Python 3"
    }
  },
  "cells": [
    {
      "cell_type": "markdown",
      "metadata": {
        "id": "view-in-github",
        "colab_type": "text"
      },
      "source": [
        "<a href=\"https://colab.research.google.com/github/jfaure3/.github.io/blob/master/Bases_de_Python.ipynb\" target=\"_parent\"><img src=\"https://colab.research.google.com/assets/colab-badge.svg\" alt=\"Open In Colab\"/></a>"
      ]
    },
    {
      "metadata": {
        "id": "xclU-bKWADiU",
        "colab_type": "text"
      },
      "cell_type": "markdown",
      "source": [
        "#Divers astuces et fonctions intéressantes"
      ]
    },
    {
      "metadata": {
        "id": "R_BqShcQ-Hlt",
        "colab_type": "text"
      },
      "cell_type": "markdown",
      "source": [
        "Ne pas aller à la ligne avec un print en spécifiant le caractère de fin. \n",
        "\n",
        "Ici end=' ' c'est une espace."
      ]
    },
    {
      "metadata": {
        "id": "H4DDKPkq-Hl5",
        "colab_type": "code",
        "colab": {}
      },
      "cell_type": "code",
      "source": [
        "def affiche(mot='rien'):\n",
        "    \"\"\"pas de retour à la ligne, mais une espace\"\"\"\n",
        "    for I in range(3):\n",
        "        print(I,mot,end=' ')\n",
        "\n",
        "affiche()"
      ],
      "execution_count": 0,
      "outputs": []
    },
    {
      "metadata": {
        "id": "Ofj1t2Gm-HmS",
        "colab_type": "text"
      },
      "cell_type": "markdown",
      "source": [
        "Associer un caractère avec son point de code de façon biunivoque."
      ]
    },
    {
      "metadata": {
        "id": "XRt-5kSh-HmW",
        "colab_type": "code",
        "colab": {}
      },
      "cell_type": "code",
      "source": [
        "def code_cesar(mot='Bonjour tout le monde', decalage=3):\n",
        "    \"\"\"César avec un décallage de 1\"\"\"\n",
        "    return \"\".join([chr(ord(c)+decalage) for c in mot])\n",
        "code_cesar()"
      ],
      "execution_count": 0,
      "outputs": []
    },
    {
      "metadata": {
        "id": "wEjvDfkl-Hmo",
        "colab_type": "text"
      },
      "cell_type": "markdown",
      "source": [
        "Ecrire des if en ligne."
      ]
    },
    {
      "metadata": {
        "id": "Jft0W4rf-Hmt",
        "colab_type": "code",
        "colab": {}
      },
      "cell_type": "code",
      "source": [
        "def autre_ecriture_si(masse):\n",
        "    \"\"\"écrite de if en ligne\"\"\"\n",
        "    return 3*masse if masse<=20 else (2*masse if masse<50 else masse)\n",
        "autre_ecriture_si(20)"
      ],
      "execution_count": 0,
      "outputs": []
    },
    {
      "metadata": {
        "id": "TsdKBGkOEToP",
        "colab_type": "text"
      },
      "cell_type": "markdown",
      "source": [
        "Liste en compréhension avec des entrées."
      ]
    },
    {
      "metadata": {
        "id": "Sc3A-jtD-HnJ",
        "colab_type": "code",
        "colab": {}
      },
      "cell_type": "code",
      "source": [
        "def si_en_ligne():\n",
        "    \"\"\"liste en compréhention\"\"\"\n",
        "    return sum([float(input('jour '+str(I)+' : ')) for I in range(7)])/7\n",
        "si_en_ligne()"
      ],
      "execution_count": 0,
      "outputs": []
    },
    {
      "metadata": {
        "id": "P_1spp_5-HnU",
        "colab_type": "text"
      },
      "cell_type": "markdown",
      "source": [
        "Liste de nombres pseudo-aléatoires, mais périodiques... (principe des tiroirs de Dirichlet)"
      ]
    },
    {
      "metadata": {
        "id": "sdb3B8pX-HnZ",
        "colab_type": "code",
        "colab": {}
      },
      "cell_type": "code",
      "source": [
        "import matplotlib.pyplot as plt\n",
        "def pseudo_alea(n=100):\n",
        "    \"\"\"liste de nombres pseudo-aléatoires\"\"\"\n",
        "    liste=[13]\n",
        "    for I in range(n):\n",
        "        liste.append((16805*liste[I] + 1) % 32768)\n",
        "    plt.subplot(1,2,1)\n",
        "    plt.plot(liste,'.')\n",
        "    plt.title('nombres')\n",
        "    pileFace=[bin(nb)[-1] for nb in liste]\n",
        "    plt.subplot(1,2,2 )\n",
        "    plt.plot(pileFace,'.')\n",
        "    plt.title('bits de poids faibles')\n",
        "    plt.show()\n",
        "pseudo_alea()"
      ],
      "execution_count": 0,
      "outputs": []
    },
    {
      "metadata": {
        "id": "hu8qnz-Y-Hnt",
        "colab_type": "text"
      },
      "cell_type": "markdown",
      "source": [
        "##Récursivité"
      ]
    },
    {
      "metadata": {
        "id": "olL0jfzF-Hnz",
        "colab_type": "code",
        "colab": {}
      },
      "cell_type": "code",
      "source": [
        "def puissance_de_2(n=10):\n",
        "    \"\"\"retourne la puissance n-ième de 2\"\"\"\n",
        "    return 1 if n==0 else 2*puissance_de_2(n-1)\n",
        "puissance_de_2()"
      ],
      "execution_count": 0,
      "outputs": []
    },
    {
      "metadata": {
        "id": "5MGkDRT7-HoB",
        "colab_type": "code",
        "colab": {}
      },
      "cell_type": "code",
      "source": [
        "def PGCD(a,b):\n",
        "    \"\"\"retourne le PGCD à partir de l'algorithme d'Euclide\"\"\"\n",
        "    return b if a%b==0 else PGCD(b,a%b)\n",
        "PGCD(30,42)"
      ],
      "execution_count": 0,
      "outputs": []
    },
    {
      "metadata": {
        "id": "8nwNDESB-HoW",
        "colab_type": "code",
        "colab": {}
      },
      "cell_type": "code",
      "source": [
        "def base_10_vers_n_recursif(nb=6007,n=5):\n",
        "    \"\"\"retourne l'écriture de nb en base n\"\"\"\n",
        "    return str(nb) if nb//n==0 else base_10_vers_n_recursif(nb//n,n)+str(nb%n)\n",
        "base_10_vers_n_recursif(1020,2)"
      ],
      "execution_count": 0,
      "outputs": []
    },
    {
      "metadata": {
        "id": "rhI17JHr-Hos",
        "colab_type": "text"
      },
      "cell_type": "markdown",
      "source": [
        "avec les listes différence entre le tri en place a.sort() et sorted(a) qui produit une autre liste"
      ]
    },
    {
      "metadata": {
        "id": "_z2_IGFT-Ho3",
        "colab_type": "code",
        "colab": {}
      },
      "cell_type": "code",
      "source": [
        "def deux_tris(liste=[2,1,8,6,5,7,5,6]):\n",
        "    \"\"\"illusrte le tri en place et le tri dans une autre liste\"\"\"\n",
        "    print(sorted(liste))#renvoie une autre liste\n",
        "    print(liste)\n",
        "    liste.sort()#en place\n",
        "    print(liste)\n",
        "deux_tris()"
      ],
      "execution_count": 0,
      "outputs": []
    },
    {
      "metadata": {
        "id": "CDfKtLL2-HpJ",
        "colab_type": "text"
      },
      "cell_type": "markdown",
      "source": [
        "L'encodage des caractères"
      ]
    },
    {
      "metadata": {
        "id": "5s-RJcDC-HpO",
        "colab_type": "code",
        "colab": {}
      },
      "cell_type": "code",
      "source": [
        "print(\"\\N{GREEK CAPITAL LETTER DELTA}\")\n",
        "print(\"\\u0394\")\n"
      ],
      "execution_count": 0,
      "outputs": []
    },
    {
      "metadata": {
        "id": "u_1qmFag-Hpg",
        "colab_type": "text"
      },
      "cell_type": "markdown",
      "source": [
        "Pour tester une égalité, l'astuce est de voir si les deux nombres sont \\og vraiment \\fg{} proches."
      ]
    },
    {
      "metadata": {
        "id": "WtV5bkxe-Hpk",
        "colab_type": "code",
        "colab": {}
      },
      "cell_type": "code",
      "source": [
        "from math import *\n",
        "def egalite(a=0.3,b=0.1+0.1+0.1):\n",
        "    \"\"\"retourne le test d'égalité stricte et le test de proximité\"\"\"\n",
        "    return (a==b, isclose(a,b))\n",
        "egalite()"
      ],
      "execution_count": 0,
      "outputs": []
    },
    {
      "metadata": {
        "id": "f7cOhPVQ_rNA",
        "colab_type": "text"
      },
      "cell_type": "markdown",
      "source": [
        "#Les graphiques avec matplotlib"
      ]
    },
    {
      "metadata": {
        "id": "hV4qJ48s-Hpx",
        "colab_type": "text"
      },
      "cell_type": "markdown",
      "source": [
        "Affichage de courbes avec matplotlib.pyplot"
      ]
    },
    {
      "metadata": {
        "id": "ToSYTXC--Hp1",
        "colab_type": "code",
        "colab": {}
      },
      "cell_type": "code",
      "source": [
        "import numpy as np\n",
        "import matplotlib.pyplot as plt\n",
        "def graphiques(f = lambda x : x**2):\n",
        "    \"\"\"tracés des courbes\"\"\"\n",
        "    X=np.linspace(-2,1.5,100)#100 valeurs de -2 à 1.5 dans un ndarray de numpy\n",
        "    Y=f(X)\n",
        "    plt.plot(X,Y,'r-')#- -- ^ s -. : b g r c m y k w , linewidth=0.8, marker=\"+\", label=\"Trajet 2\"\n",
        "    plt.ylabel('$C_f$')\n",
        "    plt.title(\"f en fonction de x\")\n",
        "    plt.show()\n",
        "graphiques()"
      ],
      "execution_count": 0,
      "outputs": []
    },
    {
      "metadata": {
        "id": "QU0fv4HK-HqJ",
        "colab_type": "text"
      },
      "cell_type": "markdown",
      "source": [
        "Graphiques statistiques avec matplotlib"
      ]
    },
    {
      "metadata": {
        "id": "PjZ_qYWO-HqM",
        "colab_type": "code",
        "colab": {}
      },
      "cell_type": "code",
      "source": [
        "import numpy as np\n",
        "import matplotlib.pyplot as plt\n",
        "def graphiques():\n",
        "    \"\"\"graphique statistiques\"\"\"\n",
        "    x = [1,2,3,4,5]\n",
        "    donnees=[20,5,60,10,20]\n",
        "    noms=['A','B','C','D','E']\n",
        "    explode=(0, 0, 0.15, 0,0)#sépart la part de 'B'\n",
        "    \n",
        "    plt.subplot(1,2,1)    \n",
        "    plt.pie(donnees, explode=explode, labels=noms, autopct='%1.2f%%', startangle=90, shadow=True)\n",
        "    plt.axis('equal')# un camembert bien rond\n",
        "    \n",
        "    plt.subplot(1,2,2)    \n",
        "    plt.bar(x,donnees, width=0.5, color=(0.1,0.2,0.3, 1.0) )\n",
        "    plt.xticks(x,noms)\n",
        "    plt.grid()\n",
        "\n",
        "    plt.savefig('circulaire et barres.png')    \n",
        "    plt.show()\n",
        "graphiques()"
      ],
      "execution_count": 0,
      "outputs": []
    },
    {
      "metadata": {
        "id": "qX__TWMP-Hqk",
        "colab_type": "text"
      },
      "cell_type": "markdown",
      "source": [
        "histogramme et diagramme en boite"
      ]
    },
    {
      "metadata": {
        "id": "mogRdL5c-Hqo",
        "colab_type": "code",
        "colab": {}
      },
      "cell_type": "code",
      "source": [
        "from random import *\n",
        "import matplotlib.pyplot as plt\n",
        "def graphiques(n=1000):\n",
        "    \"\"\"simule n fois la somme de 5 dés\"\"\"\n",
        "    X1=[randint(1,6)+randint(1,6)+randint(1,6)+randint(1,6)+randint(1,6) for I in range(n)]\n",
        "    X2=[randint(1,6)+randint(1,6)+randint(1,6)+randint(1,6)+randint(1,6)for I in range(n)]\n",
        "    \n",
        "    plt.subplot(1,2,1)    \n",
        "    plt.boxplot([X1,X2])\n",
        "    \n",
        "    plt.subplot(1,2,2)    \n",
        "    plt.hist(X1,bins=[0,10,15,18,20,22,25,31],color=(1,0,0,1))\n",
        "    plt.hist(X2,bins=[0,10,15,18,20,22,25,31],color=(0,0,1,0.5))\n",
        "    plt.grid()\n",
        "\n",
        "    plt.savefig('boite et histogramme.png')    \n",
        "    plt.show()\n",
        "graphiques()"
      ],
      "execution_count": 0,
      "outputs": []
    }
  ]
}